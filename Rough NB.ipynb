{
 "cells": [
  {
   "cell_type": "code",
   "execution_count": 2,
   "metadata": {},
   "outputs": [],
   "source": [
    "import pandas as pd\n",
    "import numpy as np\n",
    "import matplotlib.pyplot as plt"
   ]
  },
  {
   "cell_type": "code",
   "execution_count": 6,
   "metadata": {},
   "outputs": [],
   "source": [
    "from math import sin"
   ]
  },
  {
   "cell_type": "code",
   "execution_count": 15,
   "metadata": {},
   "outputs": [],
   "source": [
    "%matplotlib inline"
   ]
  },
  {
   "cell_type": "code",
   "execution_count": 24,
   "metadata": {},
   "outputs": [],
   "source": [
    "data=np.array([[\"yes\",\"no\",\"no\"],[\"yes\",\"no\",\"no\"],[\"yes\",\"no\",\"yes\"]])"
   ]
  },
  {
   "cell_type": "code",
   "execution_count": 10,
   "metadata": {},
   "outputs": [
    {
     "data": {
      "text/plain": [
       "array([['yes', 'no', 'no'],\n",
       "       ['yes', 'no', 'no'],\n",
       "       ['yes', 'no', 'yes']], dtype='<U3')"
      ]
     },
     "execution_count": 10,
     "metadata": {},
     "output_type": "execute_result"
    }
   ],
   "source": [
    "data"
   ]
  },
  {
   "cell_type": "code",
   "execution_count": 8,
   "metadata": {},
   "outputs": [
    {
     "data": {
      "text/plain": [
       "array(['yes', 'no', 'no'], dtype='<U3')"
      ]
     },
     "execution_count": 8,
     "metadata": {},
     "output_type": "execute_result"
    }
   ],
   "source": [
    "data[0][:]"
   ]
  },
  {
   "cell_type": "code",
   "execution_count": 9,
   "metadata": {},
   "outputs": [
    {
     "data": {
      "text/plain": [
       "array(['yes', 'no', 'no'], dtype='<U3')"
      ]
     },
     "execution_count": 9,
     "metadata": {},
     "output_type": "execute_result"
    }
   ],
   "source": [
    "data[:][1]"
   ]
  },
  {
   "cell_type": "code",
   "execution_count": 11,
   "metadata": {},
   "outputs": [
    {
     "data": {
      "text/plain": [
       "array(['yes', 'no', 'no'], dtype='<U3')"
      ]
     },
     "execution_count": 11,
     "metadata": {},
     "output_type": "execute_result"
    }
   ],
   "source": [
    "data[:][0]"
   ]
  },
  {
   "cell_type": "code",
   "execution_count": 12,
   "metadata": {},
   "outputs": [
    {
     "data": {
      "text/plain": [
       "array(['yes', 'no', 'yes'], dtype='<U3')"
      ]
     },
     "execution_count": 12,
     "metadata": {},
     "output_type": "execute_result"
    }
   ],
   "source": [
    "data[:][2]"
   ]
  },
  {
   "cell_type": "code",
   "execution_count": 13,
   "metadata": {},
   "outputs": [
    {
     "data": {
      "text/plain": [
       "array([['yes', 'no', 'no'],\n",
       "       ['yes', 'no', 'no'],\n",
       "       ['yes', 'no', 'yes']], dtype='<U3')"
      ]
     },
     "execution_count": 13,
     "metadata": {},
     "output_type": "execute_result"
    }
   ],
   "source": [
    "data.reshape(3,3)"
   ]
  },
  {
   "cell_type": "code",
   "execution_count": 14,
   "metadata": {},
   "outputs": [
    {
     "data": {
      "text/plain": [
       "array(['yes', 'yes', 'yes'], dtype='<U3')"
      ]
     },
     "execution_count": 14,
     "metadata": {},
     "output_type": "execute_result"
    }
   ],
   "source": [
    "data[:,0]"
   ]
  },
  {
   "cell_type": "code",
   "execution_count": 15,
   "metadata": {},
   "outputs": [
    {
     "data": {
      "text/plain": [
       "array([ True,  True,  True])"
      ]
     },
     "execution_count": 15,
     "metadata": {},
     "output_type": "execute_result"
    }
   ],
   "source": [
    "data[:,0]==\"yes\""
   ]
  },
  {
   "cell_type": "code",
   "execution_count": 17,
   "metadata": {},
   "outputs": [
    {
     "ename": "AttributeError",
     "evalue": "'numpy.ndarray' object has no attribute 'count'",
     "output_type": "error",
     "traceback": [
      "\u001b[1;31m---------------------------------------------------------------------------\u001b[0m",
      "\u001b[1;31mAttributeError\u001b[0m                            Traceback (most recent call last)",
      "\u001b[1;32m<ipython-input-17-1ebb4fceb889>\u001b[0m in \u001b[0;36m<module>\u001b[1;34m\u001b[0m\n\u001b[1;32m----> 1\u001b[1;33m \u001b[1;33m(\u001b[0m\u001b[0mdata\u001b[0m\u001b[1;33m[\u001b[0m\u001b[1;33m:\u001b[0m\u001b[1;33m,\u001b[0m\u001b[1;36m0\u001b[0m\u001b[1;33m]\u001b[0m\u001b[1;33m==\u001b[0m\u001b[1;34m\"yes\"\u001b[0m\u001b[1;33m)\u001b[0m\u001b[1;33m.\u001b[0m\u001b[0mcount\u001b[0m\u001b[1;33m(\u001b[0m\u001b[1;33m)\u001b[0m\u001b[1;33m\u001b[0m\u001b[1;33m\u001b[0m\u001b[0m\n\u001b[0m",
      "\u001b[1;31mAttributeError\u001b[0m: 'numpy.ndarray' object has no attribute 'count'"
     ]
    }
   ],
   "source": [
    "(data[:,0]==\"yes\").count()"
   ]
  },
  {
   "cell_type": "code",
   "execution_count": 21,
   "metadata": {},
   "outputs": [],
   "source": [
    "data= data[data[:,1]==\"yes\"]"
   ]
  },
  {
   "cell_type": "code",
   "execution_count": 22,
   "metadata": {},
   "outputs": [
    {
     "data": {
      "text/plain": [
       "0"
      ]
     },
     "execution_count": 22,
     "metadata": {},
     "output_type": "execute_result"
    }
   ],
   "source": [
    "len(data)"
   ]
  },
  {
   "cell_type": "code",
   "execution_count": 25,
   "metadata": {},
   "outputs": [
    {
     "data": {
      "text/plain": [
       "array([['yes', 'no', 'no'],\n",
       "       ['yes', 'no', 'no'],\n",
       "       ['yes', 'no', 'yes']], dtype='<U3')"
      ]
     },
     "execution_count": 25,
     "metadata": {},
     "output_type": "execute_result"
    }
   ],
   "source": [
    "data"
   ]
  },
  {
   "cell_type": "code",
   "execution_count": 28,
   "metadata": {},
   "outputs": [
    {
     "data": {
      "text/plain": [
       "array([['yes', 'no', 'no'],\n",
       "       ['yes', 'no', 'no']], dtype='<U3')"
      ]
     },
     "execution_count": 28,
     "metadata": {},
     "output_type": "execute_result"
    }
   ],
   "source": [
    "data[data[:,2]==\"no\"]"
   ]
  },
  {
   "cell_type": "code",
   "execution_count": 4,
   "metadata": {},
   "outputs": [],
   "source": [
    "a=np.arange(0,2*3.14,2*3.14/100)"
   ]
  },
  {
   "cell_type": "code",
   "execution_count": 5,
   "metadata": {},
   "outputs": [
    {
     "data": {
      "text/plain": [
       "array([0.    , 0.0628, 0.1256, 0.1884, 0.2512, 0.314 , 0.3768, 0.4396,\n",
       "       0.5024, 0.5652, 0.628 , 0.6908, 0.7536, 0.8164, 0.8792, 0.942 ,\n",
       "       1.0048, 1.0676, 1.1304, 1.1932, 1.256 , 1.3188, 1.3816, 1.4444,\n",
       "       1.5072, 1.57  , 1.6328, 1.6956, 1.7584, 1.8212, 1.884 , 1.9468,\n",
       "       2.0096, 2.0724, 2.1352, 2.198 , 2.2608, 2.3236, 2.3864, 2.4492,\n",
       "       2.512 , 2.5748, 2.6376, 2.7004, 2.7632, 2.826 , 2.8888, 2.9516,\n",
       "       3.0144, 3.0772, 3.14  , 3.2028, 3.2656, 3.3284, 3.3912, 3.454 ,\n",
       "       3.5168, 3.5796, 3.6424, 3.7052, 3.768 , 3.8308, 3.8936, 3.9564,\n",
       "       4.0192, 4.082 , 4.1448, 4.2076, 4.2704, 4.3332, 4.396 , 4.4588,\n",
       "       4.5216, 4.5844, 4.6472, 4.71  , 4.7728, 4.8356, 4.8984, 4.9612,\n",
       "       5.024 , 5.0868, 5.1496, 5.2124, 5.2752, 5.338 , 5.4008, 5.4636,\n",
       "       5.5264, 5.5892, 5.652 , 5.7148, 5.7776, 5.8404, 5.9032, 5.966 ,\n",
       "       6.0288, 6.0916, 6.1544, 6.2172])"
      ]
     },
     "execution_count": 5,
     "metadata": {},
     "output_type": "execute_result"
    }
   ],
   "source": [
    "a"
   ]
  },
  {
   "cell_type": "code",
   "execution_count": 9,
   "metadata": {},
   "outputs": [],
   "source": [
    "si=np.sin(a)"
   ]
  },
  {
   "cell_type": "code",
   "execution_count": 10,
   "metadata": {},
   "outputs": [
    {
     "data": {
      "text/plain": [
       "array([ 0.        ,  0.06275873,  0.12527003,  0.18728745,  0.24856648,\n",
       "        0.30886552,  0.36794685,  0.42557753,  0.48153035,  0.53558472,\n",
       "        0.58752753,  0.63715398,  0.68426842,  0.7286851 ,  0.77022891,\n",
       "        0.80873606,  0.84405473,  0.87604568,  0.90458278,  0.92955352,\n",
       "        0.95085946,  0.96841659,  0.9821557 ,  0.99202261,  0.99797844,\n",
       "        0.99999968,  0.99807839,  0.99222213,  0.98245398,  0.96881247,\n",
       "        0.95135138,  0.93013954,  0.90526058,  0.87681259,  0.84490773,\n",
       "        0.80967179,  0.77124368,  0.7297749 ,  0.68542896,  0.63838068,\n",
       "        0.58881556,  0.53692901,  0.48292559,  0.42701822,  0.36942731,\n",
       "        0.31037991,  0.25010883,  0.18885168,  0.12684998,  0.06434816,\n",
       "        0.00159265, -0.06116914, -0.12368976, -0.18572274, -0.24702349,\n",
       "       -0.30735035, -0.36646546, -0.42413576, -0.4801339 , -0.53423908,\n",
       "       -0.586238  , -0.63592565, -0.68310614, -0.72759345, -0.76921219,\n",
       "       -0.80779828, -0.84319959, -0.87527655, -0.90390269, -0.92896515,\n",
       "       -0.95036513, -0.96801826, -0.98185492, -0.99182059, -0.99787595,\n",
       "       -0.99999715, -0.99817581, -0.99241912, -0.98274977, -0.9692059 ,\n",
       "       -0.95184088, -0.93072319, -0.90593608, -0.87757728, -0.84575859,\n",
       "       -0.81060546, -0.77225649, -0.73086285, -0.68658776, -0.63960577,\n",
       "       -0.5901021 , -0.53827193, -0.4843196 , -0.42845782, -0.37090682,\n",
       "       -0.31189351, -0.25165055, -0.19041544, -0.1284296 , -0.06593743])"
      ]
     },
     "execution_count": 10,
     "metadata": {},
     "output_type": "execute_result"
    }
   ],
   "source": [
    "si"
   ]
  },
  {
   "cell_type": "code",
   "execution_count": 12,
   "metadata": {},
   "outputs": [],
   "source": [
    "b=np.array([a,si])"
   ]
  },
  {
   "cell_type": "code",
   "execution_count": 13,
   "metadata": {},
   "outputs": [
    {
     "data": {
      "text/plain": [
       "array([[ 0.00000000e+00,  6.28000000e-02,  1.25600000e-01,\n",
       "         1.88400000e-01,  2.51200000e-01,  3.14000000e-01,\n",
       "         3.76800000e-01,  4.39600000e-01,  5.02400000e-01,\n",
       "         5.65200000e-01,  6.28000000e-01,  6.90800000e-01,\n",
       "         7.53600000e-01,  8.16400000e-01,  8.79200000e-01,\n",
       "         9.42000000e-01,  1.00480000e+00,  1.06760000e+00,\n",
       "         1.13040000e+00,  1.19320000e+00,  1.25600000e+00,\n",
       "         1.31880000e+00,  1.38160000e+00,  1.44440000e+00,\n",
       "         1.50720000e+00,  1.57000000e+00,  1.63280000e+00,\n",
       "         1.69560000e+00,  1.75840000e+00,  1.82120000e+00,\n",
       "         1.88400000e+00,  1.94680000e+00,  2.00960000e+00,\n",
       "         2.07240000e+00,  2.13520000e+00,  2.19800000e+00,\n",
       "         2.26080000e+00,  2.32360000e+00,  2.38640000e+00,\n",
       "         2.44920000e+00,  2.51200000e+00,  2.57480000e+00,\n",
       "         2.63760000e+00,  2.70040000e+00,  2.76320000e+00,\n",
       "         2.82600000e+00,  2.88880000e+00,  2.95160000e+00,\n",
       "         3.01440000e+00,  3.07720000e+00,  3.14000000e+00,\n",
       "         3.20280000e+00,  3.26560000e+00,  3.32840000e+00,\n",
       "         3.39120000e+00,  3.45400000e+00,  3.51680000e+00,\n",
       "         3.57960000e+00,  3.64240000e+00,  3.70520000e+00,\n",
       "         3.76800000e+00,  3.83080000e+00,  3.89360000e+00,\n",
       "         3.95640000e+00,  4.01920000e+00,  4.08200000e+00,\n",
       "         4.14480000e+00,  4.20760000e+00,  4.27040000e+00,\n",
       "         4.33320000e+00,  4.39600000e+00,  4.45880000e+00,\n",
       "         4.52160000e+00,  4.58440000e+00,  4.64720000e+00,\n",
       "         4.71000000e+00,  4.77280000e+00,  4.83560000e+00,\n",
       "         4.89840000e+00,  4.96120000e+00,  5.02400000e+00,\n",
       "         5.08680000e+00,  5.14960000e+00,  5.21240000e+00,\n",
       "         5.27520000e+00,  5.33800000e+00,  5.40080000e+00,\n",
       "         5.46360000e+00,  5.52640000e+00,  5.58920000e+00,\n",
       "         5.65200000e+00,  5.71480000e+00,  5.77760000e+00,\n",
       "         5.84040000e+00,  5.90320000e+00,  5.96600000e+00,\n",
       "         6.02880000e+00,  6.09160000e+00,  6.15440000e+00,\n",
       "         6.21720000e+00],\n",
       "       [ 0.00000000e+00,  6.27587293e-02,  1.25270030e-01,\n",
       "         1.87287447e-01,  2.48566476e-01,  3.08865520e-01,\n",
       "         3.67946849e-01,  4.25577530e-01,  4.81530354e-01,\n",
       "         5.35584723e-01,  5.87527526e-01,  6.37153975e-01,\n",
       "         6.84268417e-01,  7.28685101e-01,  7.70228911e-01,\n",
       "         8.08736061e-01,  8.44054732e-01,  8.76045681e-01,\n",
       "         9.04582781e-01,  9.29553524e-01,  9.50859461e-01,\n",
       "         9.68416592e-01,  9.82155699e-01,  9.92022613e-01,\n",
       "         9.97978435e-01,  9.99999683e-01,  9.98078388e-01,\n",
       "         9.92222125e-01,  9.82453983e-01,  9.68812472e-01,\n",
       "         9.51351376e-01,  9.30139535e-01,  9.05260578e-01,\n",
       "         8.76812592e-01,  8.44907733e-01,  8.09671788e-01,\n",
       "         7.71243677e-01,  7.29774903e-01,  6.85428960e-01,\n",
       "         6.38380683e-01,  5.88815562e-01,  5.36929010e-01,\n",
       "         4.82925591e-01,  4.27018217e-01,  3.69427305e-01,\n",
       "         3.10379910e-01,  2.50108828e-01,  1.88851681e-01,\n",
       "         1.26849978e-01,  6.43481630e-02,  1.59265292e-03,\n",
       "        -6.11691363e-02, -1.23689764e-01, -1.85722738e-01,\n",
       "        -2.47023493e-01, -3.07350347e-01, -3.66465459e-01,\n",
       "        -4.24135764e-01, -4.80133895e-01, -5.34239078e-01,\n",
       "        -5.86237999e-01, -6.35925651e-01, -6.83106139e-01,\n",
       "        -7.27593450e-01, -7.69212192e-01, -8.07798281e-01,\n",
       "        -8.43199590e-01, -8.75276548e-01, -9.03902689e-01,\n",
       "        -9.28965154e-01, -9.50365133e-01, -9.68018255e-01,\n",
       "        -9.81854924e-01, -9.91820585e-01, -9.97875951e-01,\n",
       "        -9.99997146e-01, -9.98175809e-01, -9.92419120e-01,\n",
       "        -9.82749775e-01, -9.69205895e-01, -9.51840879e-01,\n",
       "        -9.30723188e-01, -9.05936080e-01, -8.77577279e-01,\n",
       "        -8.45758591e-01, -8.10605462e-01, -7.72256486e-01,\n",
       "        -7.30862855e-01, -6.86587764e-01, -6.39605771e-01,\n",
       "        -5.90102105e-01, -5.38271934e-01, -4.84319603e-01,\n",
       "        -4.28457821e-01, -3.70906825e-01, -3.11893512e-01,\n",
       "        -2.51650545e-01, -1.90415435e-01, -1.28429604e-01,\n",
       "        -6.59374336e-02]])"
      ]
     },
     "execution_count": 13,
     "metadata": {},
     "output_type": "execute_result"
    }
   ],
   "source": [
    "b"
   ]
  },
  {
   "cell_type": "code",
   "execution_count": 47,
   "metadata": {},
   "outputs": [
    {
     "data": {
      "text/plain": [
       "[<matplotlib.lines.Line2D at 0x1bcac9f5eb8>]"
      ]
     },
     "execution_count": 47,
     "metadata": {},
     "output_type": "execute_result"
    },
    {
     "data": {
      "image/png": "[encoded data removed]",
      "text/plain": [
       "<Figure size 432x288 with 1 Axes>"
      ]
     },
     "metadata": {
      "needs_background": "light"
     },
     "output_type": "display_data"
    }
   ],
   "source": [
    "plt.plot(a,si)\n",
    "plt.plot(aproxidataa,aproxidatab)\n",
    "plt.plot(a,[0]*100)"
   ]
  },
  {
   "cell_type": "code",
   "execution_count": 45,
   "metadata": {},
   "outputs": [
    {
     "data": {
      "text/plain": [
       "array([0.5652, 1.0048, 1.4444, 3.7052, 5.2752])"
      ]
     },
     "execution_count": 45,
     "metadata": {},
     "output_type": "execute_result"
    }
   ],
   "source": [
    "aproxidataa=a[c]\n",
    "aproxidataa"
   ]
  },
  {
   "cell_type": "code",
   "execution_count": 34,
   "metadata": {},
   "outputs": [],
   "source": [
    "c=np.random.randint(0,100,size=5)"
   ]
  },
  {
   "cell_type": "code",
   "execution_count": 44,
   "metadata": {},
   "outputs": [
    {
     "data": {
      "text/plain": [
       "array([ 9, 16, 23, 59, 84])"
      ]
     },
     "execution_count": 44,
     "metadata": {},
     "output_type": "execute_result"
    }
   ],
   "source": [
    "c"
   ]
  },
  {
   "cell_type": "code",
   "execution_count": 46,
   "metadata": {},
   "outputs": [],
   "source": [
    "aproxidatab=si[c]"
   ]
  },
  {
   "cell_type": "code",
   "execution_count": 40,
   "metadata": {},
   "outputs": [
    {
     "data": {
      "text/plain": [
       "array([ 0.99202261,  0.53558472, -0.84575859, -0.53423908,  0.84405473])"
      ]
     },
     "execution_count": 40,
     "metadata": {},
     "output_type": "execute_result"
    }
   ],
   "source": [
    "aproxidatab"
   ]
  },
  {
   "cell_type": "code",
   "execution_count": 3,
   "metadata": {},
   "outputs": [],
   "source": [
    "tabl1=pd.DataFrame({\"Rating\":[2,2,2,2,2,1,1,1,0,0,0,0,-1,-1,-1,-1,-2,-2,-2,-2],\"Ez\":[1,1,0,0,0,1,1,0,0,1,0,1,1,0,0,1,0,0,1,1],\"AI\":[1,1,1,0,1,1,1,1,0,0,1,1,1,0,0,0,0,1,0,0],\"Sys\":[0,0,0,0,1,0,0,0,0,0,0,1,1,1,1,1,1,1,1,1],\"Th\":[1,1,0,1,0,0,1,1,0,1,1,1,0,1,0,0,1,0,0,0],\"Morn\":[0,0,0,0,1,0,0,0,1,1,0,1,1,0,1,1,0,1,0,1]},columns=[\"Rating\",\"Ez\",\"AI\",\"Sys\",\"Th\",\"Morn\"])"
   ]
  },
  {
   "cell_type": "code",
   "execution_count": 4,
   "metadata": {},
   "outputs": [
    {
     "data": {
      "text/html": [
       "<div>\n",
       "<style scoped>\n",
       "    .dataframe tbody tr th:only-of-type {\n",
       "        vertical-align: middle;\n",
       "    }\n",
       "\n",
       "    .dataframe tbody tr th {\n",
       "        vertical-align: top;\n",
       "    }\n",
       "\n",
       "    .dataframe thead th {\n",
       "        text-align: right;\n",
       "    }\n",
       "</style>\n",
       "<table border=\"1\" class=\"dataframe\">\n",
       "  <thead>\n",
       "    <tr style=\"text-align: right;\">\n",
       "      <th></th>\n",
       "      <th>Rating</th>\n",
       "      <th>Ez</th>\n",
       "      <th>AI</th>\n",
       "      <th>Sys</th>\n",
       "      <th>Th</th>\n",
       "      <th>Morn</th>\n",
       "    </tr>\n",
       "  </thead>\n",
       "  <tbody>\n",
       "    <tr>\n",
       "      <th>0</th>\n",
       "      <td>2</td>\n",
       "      <td>1</td>\n",
       "      <td>1</td>\n",
       "      <td>0</td>\n",
       "      <td>1</td>\n",
       "      <td>0</td>\n",
       "    </tr>\n",
       "    <tr>\n",
       "      <th>1</th>\n",
       "      <td>2</td>\n",
       "      <td>1</td>\n",
       "      <td>1</td>\n",
       "      <td>0</td>\n",
       "      <td>1</td>\n",
       "      <td>0</td>\n",
       "    </tr>\n",
       "    <tr>\n",
       "      <th>2</th>\n",
       "      <td>2</td>\n",
       "      <td>0</td>\n",
       "      <td>1</td>\n",
       "      <td>0</td>\n",
       "      <td>0</td>\n",
       "      <td>0</td>\n",
       "    </tr>\n",
       "    <tr>\n",
       "      <th>3</th>\n",
       "      <td>2</td>\n",
       "      <td>0</td>\n",
       "      <td>0</td>\n",
       "      <td>0</td>\n",
       "      <td>1</td>\n",
       "      <td>0</td>\n",
       "    </tr>\n",
       "    <tr>\n",
       "      <th>4</th>\n",
       "      <td>2</td>\n",
       "      <td>0</td>\n",
       "      <td>1</td>\n",
       "      <td>1</td>\n",
       "      <td>0</td>\n",
       "      <td>1</td>\n",
       "    </tr>\n",
       "    <tr>\n",
       "      <th>5</th>\n",
       "      <td>1</td>\n",
       "      <td>1</td>\n",
       "      <td>1</td>\n",
       "      <td>0</td>\n",
       "      <td>0</td>\n",
       "      <td>0</td>\n",
       "    </tr>\n",
       "    <tr>\n",
       "      <th>6</th>\n",
       "      <td>1</td>\n",
       "      <td>1</td>\n",
       "      <td>1</td>\n",
       "      <td>0</td>\n",
       "      <td>1</td>\n",
       "      <td>0</td>\n",
       "    </tr>\n",
       "    <tr>\n",
       "      <th>7</th>\n",
       "      <td>1</td>\n",
       "      <td>0</td>\n",
       "      <td>1</td>\n",
       "      <td>0</td>\n",
       "      <td>1</td>\n",
       "      <td>0</td>\n",
       "    </tr>\n",
       "    <tr>\n",
       "      <th>8</th>\n",
       "      <td>0</td>\n",
       "      <td>0</td>\n",
       "      <td>0</td>\n",
       "      <td>0</td>\n",
       "      <td>0</td>\n",
       "      <td>1</td>\n",
       "    </tr>\n",
       "    <tr>\n",
       "      <th>9</th>\n",
       "      <td>0</td>\n",
       "      <td>1</td>\n",
       "      <td>0</td>\n",
       "      <td>0</td>\n",
       "      <td>1</td>\n",
       "      <td>1</td>\n",
       "    </tr>\n",
       "    <tr>\n",
       "      <th>10</th>\n",
       "      <td>0</td>\n",
       "      <td>0</td>\n",
       "      <td>1</td>\n",
       "      <td>0</td>\n",
       "      <td>1</td>\n",
       "      <td>0</td>\n",
       "    </tr>\n",
       "    <tr>\n",
       "      <th>11</th>\n",
       "      <td>0</td>\n",
       "      <td>1</td>\n",
       "      <td>1</td>\n",
       "      <td>1</td>\n",
       "      <td>1</td>\n",
       "      <td>1</td>\n",
       "    </tr>\n",
       "    <tr>\n",
       "      <th>12</th>\n",
       "      <td>-1</td>\n",
       "      <td>1</td>\n",
       "      <td>1</td>\n",
       "      <td>1</td>\n",
       "      <td>0</td>\n",
       "      <td>1</td>\n",
       "    </tr>\n",
       "    <tr>\n",
       "      <th>13</th>\n",
       "      <td>-1</td>\n",
       "      <td>0</td>\n",
       "      <td>0</td>\n",
       "      <td>1</td>\n",
       "      <td>1</td>\n",
       "      <td>0</td>\n",
       "    </tr>\n",
       "    <tr>\n",
       "      <th>14</th>\n",
       "      <td>-1</td>\n",
       "      <td>0</td>\n",
       "      <td>0</td>\n",
       "      <td>1</td>\n",
       "      <td>0</td>\n",
       "      <td>1</td>\n",
       "    </tr>\n",
       "    <tr>\n",
       "      <th>15</th>\n",
       "      <td>-1</td>\n",
       "      <td>1</td>\n",
       "      <td>0</td>\n",
       "      <td>1</td>\n",
       "      <td>0</td>\n",
       "      <td>1</td>\n",
       "    </tr>\n",
       "    <tr>\n",
       "      <th>16</th>\n",
       "      <td>-2</td>\n",
       "      <td>0</td>\n",
       "      <td>0</td>\n",
       "      <td>1</td>\n",
       "      <td>1</td>\n",
       "      <td>0</td>\n",
       "    </tr>\n",
       "    <tr>\n",
       "      <th>17</th>\n",
       "      <td>-2</td>\n",
       "      <td>0</td>\n",
       "      <td>1</td>\n",
       "      <td>1</td>\n",
       "      <td>0</td>\n",
       "      <td>1</td>\n",
       "    </tr>\n",
       "    <tr>\n",
       "      <th>18</th>\n",
       "      <td>-2</td>\n",
       "      <td>1</td>\n",
       "      <td>0</td>\n",
       "      <td>1</td>\n",
       "      <td>0</td>\n",
       "      <td>0</td>\n",
       "    </tr>\n",
       "    <tr>\n",
       "      <th>19</th>\n",
       "      <td>-2</td>\n",
       "      <td>1</td>\n",
       "      <td>0</td>\n",
       "      <td>1</td>\n",
       "      <td>0</td>\n",
       "      <td>1</td>\n",
       "    </tr>\n",
       "  </tbody>\n",
       "</table>\n",
       "</div>"
      ],
      "text/plain": [
       "    Rating  Ez  AI  Sys  Th  Morn\n",
       "0        2   1   1    0   1     0\n",
       "1        2   1   1    0   1     0\n",
       "2        2   0   1    0   0     0\n",
       "3        2   0   0    0   1     0\n",
       "4        2   0   1    1   0     1\n",
       "5        1   1   1    0   0     0\n",
       "6        1   1   1    0   1     0\n",
       "7        1   0   1    0   1     0\n",
       "8        0   0   0    0   0     1\n",
       "9        0   1   0    0   1     1\n",
       "10       0   0   1    0   1     0\n",
       "11       0   1   1    1   1     1\n",
       "12      -1   1   1    1   0     1\n",
       "13      -1   0   0    1   1     0\n",
       "14      -1   0   0    1   0     1\n",
       "15      -1   1   0    1   0     1\n",
       "16      -2   0   0    1   1     0\n",
       "17      -2   0   1    1   0     1\n",
       "18      -2   1   0    1   0     0\n",
       "19      -2   1   0    1   0     1"
      ]
     },
     "execution_count": 4,
     "metadata": {},
     "output_type": "execute_result"
    }
   ],
   "source": [
    "tabl1"
   ]
  },
  {
   "cell_type": "code",
   "execution_count": 19,
   "metadata": {},
   "outputs": [],
   "source": [
    "ds=np.array(tabl1)"
   ]
  },
  {
   "cell_type": "code",
   "execution_count": 23,
   "metadata": {},
   "outputs": [
    {
     "data": {
      "text/plain": [
       "(20, 5)"
      ]
     },
     "execution_count": 23,
     "metadata": {},
     "output_type": "execute_result"
    }
   ],
   "source": [
    "ds.shape"
   ]
  },
  {
   "cell_type": "code",
   "execution_count": 21,
   "metadata": {},
   "outputs": [],
   "source": [
    "ds=ds[:,1:]"
   ]
  },
  {
   "cell_type": "code",
   "execution_count": 22,
   "metadata": {
    "scrolled": true
   },
   "outputs": [
    {
     "data": {
      "text/plain": [
       "array([[1, 1, 0, 1, 0],\n",
       "       [1, 1, 0, 1, 0],\n",
       "       [0, 1, 0, 0, 0],\n",
       "       [0, 0, 0, 1, 0],\n",
       "       [0, 1, 1, 0, 1],\n",
       "       [1, 1, 0, 0, 0],\n",
       "       [1, 1, 0, 1, 0],\n",
       "       [0, 1, 0, 1, 0],\n",
       "       [0, 0, 0, 0, 1],\n",
       "       [1, 0, 0, 1, 1],\n",
       "       [0, 1, 0, 1, 0],\n",
       "       [1, 1, 1, 1, 1],\n",
       "       [1, 1, 1, 0, 1],\n",
       "       [0, 0, 1, 1, 0],\n",
       "       [0, 0, 1, 0, 1],\n",
       "       [1, 0, 1, 0, 1],\n",
       "       [0, 0, 1, 1, 0],\n",
       "       [0, 1, 1, 0, 1],\n",
       "       [1, 0, 1, 0, 0],\n",
       "       [1, 0, 1, 0, 1]], dtype=int64)"
      ]
     },
     "execution_count": 22,
     "metadata": {},
     "output_type": "execute_result"
    }
   ],
   "source": [
    "ds"
   ]
  },
  {
   "cell_type": "code",
   "execution_count": 24,
   "metadata": {},
   "outputs": [],
   "source": [
    "t=ds[1]"
   ]
  },
  {
   "cell_type": "code",
   "execution_count": 25,
   "metadata": {},
   "outputs": [
    {
     "data": {
      "text/plain": [
       "array([1, 1, 0, 1, 0], dtype=int64)"
      ]
     },
     "execution_count": 25,
     "metadata": {},
     "output_type": "execute_result"
    }
   ],
   "source": [
    "t"
   ]
  },
  {
   "cell_type": "code",
   "execution_count": 40,
   "metadata": {},
   "outputs": [
    {
     "data": {
      "text/plain": [
       "array([[0, 0, 0, 0, 0],\n",
       "       [0, 0, 0, 0, 0],\n",
       "       [1, 0, 0, 1, 0],\n",
       "       [1, 1, 0, 0, 0],\n",
       "       [1, 0, 1, 1, 1],\n",
       "       [0, 0, 0, 1, 0],\n",
       "       [0, 0, 0, 0, 0],\n",
       "       [1, 0, 0, 0, 0],\n",
       "       [1, 1, 0, 1, 1],\n",
       "       [0, 1, 0, 0, 1],\n",
       "       [1, 0, 0, 0, 0],\n",
       "       [0, 0, 1, 0, 1],\n",
       "       [0, 0, 1, 1, 1],\n",
       "       [1, 1, 1, 0, 0],\n",
       "       [1, 1, 1, 1, 1],\n",
       "       [0, 1, 1, 1, 1],\n",
       "       [1, 1, 1, 0, 0],\n",
       "       [1, 0, 1, 1, 1],\n",
       "       [0, 1, 1, 1, 0],\n",
       "       [0, 1, 1, 1, 1]], dtype=int64)"
      ]
     },
     "execution_count": 40,
     "metadata": {},
     "output_type": "execute_result"
    }
   ],
   "source": [
    "di=((ds-t)**2)\n",
    "di"
   ]
  },
  {
   "cell_type": "code",
   "execution_count": 36,
   "metadata": {},
   "outputs": [],
   "source": [
    "dist=np.sum((ds-t)**2,axis=1)"
   ]
  },
  {
   "cell_type": "code",
   "execution_count": 37,
   "metadata": {},
   "outputs": [
    {
     "data": {
      "text/plain": [
       "array([0, 0, 2, 2, 4, 1, 0, 1, 4, 2, 1, 2, 3, 3, 5, 4, 3, 4, 3, 4],\n",
       "      dtype=int64)"
      ]
     },
     "execution_count": 37,
     "metadata": {},
     "output_type": "execute_result"
    }
   ],
   "source": [
    "dist"
   ]
  },
  {
   "cell_type": "code",
   "execution_count": 53,
   "metadata": {},
   "outputs": [],
   "source": [
    "dist=dist.reshape((20,1))"
   ]
  },
  {
   "cell_type": "code",
   "execution_count": 35,
   "metadata": {},
   "outputs": [],
   "source": [
    "np.sum?"
   ]
  },
  {
   "cell_type": "code",
   "execution_count": 41,
   "metadata": {},
   "outputs": [],
   "source": [
    "rat=np.array(tabl1)[:,0]"
   ]
  },
  {
   "cell_type": "code",
   "execution_count": 55,
   "metadata": {},
   "outputs": [],
   "source": [
    "rat=rat.reshape((20,1))"
   ]
  },
  {
   "cell_type": "code",
   "execution_count": 43,
   "metadata": {},
   "outputs": [
    {
     "data": {
      "text/plain": [
       "array([0, 0, 2, 2, 4, 1, 0, 1, 4, 2, 1, 2, 3, 3, 5, 4, 3, 4, 3, 4],\n",
       "      dtype=int64)"
      ]
     },
     "execution_count": 43,
     "metadata": {},
     "output_type": "execute_result"
    }
   ],
   "source": [
    "dist"
   ]
  },
  {
   "cell_type": "code",
   "execution_count": 48,
   "metadata": {},
   "outputs": [],
   "source": [
    "dep= np.array([rat,dist])"
   ]
  },
  {
   "cell_type": "code",
   "execution_count": 49,
   "metadata": {},
   "outputs": [
    {
     "data": {
      "text/plain": [
       "array([[ 2,  2,  2,  2,  2,  1,  1,  1,  0,  0,  0,  0, -1, -1, -1, -1,\n",
       "        -2, -2, -2, -2],\n",
       "       [ 0,  0,  2,  2,  4,  1,  0,  1,  4,  2,  1,  2,  3,  3,  5,  4,\n",
       "         3,  4,  3,  4]], dtype=int64)"
      ]
     },
     "execution_count": 49,
     "metadata": {},
     "output_type": "execute_result"
    }
   ],
   "source": [
    "dep"
   ]
  },
  {
   "cell_type": "code",
   "execution_count": 57,
   "metadata": {},
   "outputs": [],
   "source": [
    "fi = np.concatenate((dist,rat),axis=1)"
   ]
  },
  {
   "cell_type": "code",
   "execution_count": 58,
   "metadata": {},
   "outputs": [
    {
     "data": {
      "text/plain": [
       "array([[ 0,  2],\n",
       "       [ 0,  2],\n",
       "       [ 2,  2],\n",
       "       [ 2,  2],\n",
       "       [ 4,  2],\n",
       "       [ 1,  1],\n",
       "       [ 0,  1],\n",
       "       [ 1,  1],\n",
       "       [ 4,  0],\n",
       "       [ 2,  0],\n",
       "       [ 1,  0],\n",
       "       [ 2,  0],\n",
       "       [ 3, -1],\n",
       "       [ 3, -1],\n",
       "       [ 5, -1],\n",
       "       [ 4, -1],\n",
       "       [ 3, -2],\n",
       "       [ 4, -2],\n",
       "       [ 3, -2],\n",
       "       [ 4, -2]], dtype=int64)"
      ]
     },
     "execution_count": 58,
     "metadata": {},
     "output_type": "execute_result"
    }
   ],
   "source": [
    "fi"
   ]
  },
  {
   "cell_type": "code",
   "execution_count": 59,
   "metadata": {},
   "outputs": [],
   "source": [
    "fi=fi[fi[:,0].argsort()]"
   ]
  },
  {
   "cell_type": "code",
   "execution_count": 60,
   "metadata": {},
   "outputs": [
    {
     "data": {
      "text/plain": [
       "array([[ 0,  2],\n",
       "       [ 0,  2],\n",
       "       [ 0,  1],\n",
       "       [ 1,  0],\n",
       "       [ 1,  1],\n",
       "       [ 1,  1],\n",
       "       [ 2,  0],\n",
       "       [ 2,  0],\n",
       "       [ 2,  2],\n",
       "       [ 2,  2],\n",
       "       [ 3, -2],\n",
       "       [ 3, -1],\n",
       "       [ 3, -1],\n",
       "       [ 3, -2],\n",
       "       [ 4,  0],\n",
       "       [ 4, -1],\n",
       "       [ 4, -2],\n",
       "       [ 4,  2],\n",
       "       [ 4, -2],\n",
       "       [ 5, -1]], dtype=int64)"
      ]
     },
     "execution_count": 60,
     "metadata": {},
     "output_type": "execute_result"
    }
   ],
   "source": [
    "fi"
   ]
  },
  {
   "cell_type": "code",
   "execution_count": 61,
   "metadata": {},
   "outputs": [
    {
     "data": {
      "text/plain": [
       "0"
      ]
     },
     "execution_count": 61,
     "metadata": {},
     "output_type": "execute_result"
    }
   ],
   "source": [
    "fi[0,0]"
   ]
  },
  {
   "cell_type": "code",
   "execution_count": 62,
   "metadata": {},
   "outputs": [
    {
     "data": {
      "text/plain": [
       "0"
      ]
     },
     "execution_count": 62,
     "metadata": {},
     "output_type": "execute_result"
    }
   ],
   "source": [
    "fi[1,0]"
   ]
  },
  {
   "cell_type": "code",
   "execution_count": 64,
   "metadata": {},
   "outputs": [
    {
     "data": {
      "text/plain": [
       "1"
      ]
     },
     "execution_count": 64,
     "metadata": {},
     "output_type": "execute_result"
    }
   ],
   "source": [
    "fi[3,0]"
   ]
  },
  {
   "cell_type": "code",
   "execution_count": null,
   "metadata": {},
   "outputs": [],
   "source": []
  }
 ],
 "metadata": {
  "kernelspec": {
   "display_name": "Python 3",
   "language": "python",
   "name": "python3"
  },
  "language_info": {
   "codemirror_mode": {
    "name": "ipython",
    "version": 3
   },
   "file_extension": ".py",
   "mimetype": "text/x-python",
   "name": "python",
   "nbconvert_exporter": "python",
   "pygments_lexer": "ipython3",
   "version": "3.7.1"
  }
 },
 "nbformat": 4,
 "nbformat_minor": 2
}
